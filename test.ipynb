{
 "metadata": {
  "language_info": {
   "codemirror_mode": {
    "name": "ipython",
    "version": 3
   },
   "file_extension": ".py",
   "mimetype": "text/x-python",
   "name": "python",
   "nbconvert_exporter": "python",
   "pygments_lexer": "ipython3",
   "version": "3.9.0"
  },
  "orig_nbformat": 2,
  "kernelspec": {
   "name": "python390jvsc74a57bd012c09e48a56d77524688c105dce6402e04187280239d14a30f30526043a7acb6",
   "display_name": "Python 3.9.0 64-bit"
  }
 },
 "nbformat": 4,
 "nbformat_minor": 2,
 "cells": [
  {
   "cell_type": "code",
   "execution_count": 3,
   "metadata": {},
   "outputs": [
    {
     "output_type": "stream",
     "name": "stdout",
     "text": [
      "0\n"
     ]
    }
   ],
   "source": [
    "def fact(n):\n",
    "    if n<0:\n",
    "        return 0\n",
    "    elif n==0 or n==1:\n",
    "        return 1\n",
    "    else:\n",
    "        fact =1\n",
    "        while(n>1):\n",
    "            fact= fact*n\n",
    "            n-=1\n",
    "        return fact\n",
    "\n",
    "\n",
    "\n",
    "print(fact(-2))"
   ]
  },
  {
   "cell_type": "code",
   "execution_count": 5,
   "metadata": {},
   "outputs": [
    {
     "output_type": "stream",
     "name": "stdout",
     "text": [
      "5\n6\n7\n8\n"
     ]
    }
   ],
   "source": [
    "for i in range(5,9):\n",
    "    print(i)"
   ]
  },
  {
   "cell_type": "code",
   "execution_count": 6,
   "metadata": {},
   "outputs": [
    {
     "output_type": "stream",
     "name": "stdout",
     "text": [
      "2\n"
     ]
    }
   ],
   "source": [
    "sum = 5//2\n",
    "print(sum)"
   ]
  },
  {
   "cell_type": "code",
   "execution_count": null,
   "metadata": {},
   "outputs": [],
   "source": [
    "for i in range(2,10):\n",
    "    if i%i"
   ]
  },
  {
   "cell_type": "code",
   "execution_count": 10,
   "metadata": {},
   "outputs": [
    {
     "output_type": "stream",
     "name": "stdout",
     "text": [
      "2\n"
     ]
    }
   ],
   "source": [
    "for i in range(2,3):\n",
    "    print(i)"
   ]
  },
  {
   "cell_type": "code",
   "execution_count": 16,
   "metadata": {},
   "outputs": [
    {
     "output_type": "stream",
     "name": "stdout",
     "text": [
      "it is nota  prime number\n"
     ]
    }
   ],
   "source": [
    "def prime(num):\n",
    "    if num>1:\n",
    "        for i in range(2,num):\n",
    "            if num%i ==0:\n",
    "                print(\"it is not a prime number\")\n",
    "                break\n",
    "        else:\n",
    "            print('it is a prime number')\n",
    "\n",
    "prime(9)"
   ]
  },
  {
   "cell_type": "code",
   "execution_count": null,
   "metadata": {},
   "outputs": [],
   "source": [
    "nth seqye"
   ]
  },
  {
   "cell_type": "code",
   "execution_count": 18,
   "metadata": {},
   "outputs": [
    {
     "output_type": "stream",
     "name": "stdout",
     "text": [
      "3\n"
     ]
    }
   ],
   "source": [
    "def Fibonacci(n):\n",
    "    if n<0:\n",
    "        print(\"Incorrect input\")\n",
    "# First Fibonacci number is 0\n",
    "    elif n==1:\n",
    "        return 0\n",
    "# Second Fibonacci number is 1\n",
    "    elif n==2:\n",
    "        return 1\n",
    "    else:\n",
    "        return Fibonacci(n-1)+Fibonacci(n-2)\n",
    "# Driver Program\n",
    "print(Fibonacci(5)) "
   ]
  },
  {
   "cell_type": "code",
   "execution_count": 21,
   "metadata": {},
   "outputs": [
    {
     "output_type": "stream",
     "name": "stdout",
     "text": [
      "0\n1\n"
     ]
    }
   ],
   "source": [
    "def fibo(num):\n",
    "    n1,n2 = 0,1\n",
    "    count =0\n",
    "    if num<0:\n",
    "        print(\"Invalid number\")\n",
    "    elif num ==1:\n",
    "        print(n1)\n",
    "    else:\n",
    "        for i in range(num):\n",
    "            print(n1)\n",
    "            c = n1+n2\n",
    "            n1, n2 = n2, c\n",
    "    \n",
    "fibo(2)"
   ]
  },
  {
   "cell_type": "code",
   "execution_count": 22,
   "metadata": {},
   "outputs": [
    {
     "output_type": "stream",
     "name": "stdout",
     "text": [
      "97\n"
     ]
    }
   ],
   "source": [
    "c='a'\n",
    "print(ord(c))"
   ]
  },
  {
   "cell_type": "code",
   "execution_count": 26,
   "metadata": {},
   "outputs": [
    {
     "output_type": "stream",
     "name": "stdout",
     "text": [
      "5\n"
     ]
    }
   ],
   "source": [
    "sum =0\n",
    "for i in range(1,3):\n",
    "    \n",
    "    sum = sum+i**2\n",
    "print(sum)"
   ]
  },
  {
   "cell_type": "code",
   "execution_count": 27,
   "metadata": {},
   "outputs": [
    {
     "output_type": "execute_result",
     "data": {
      "text/plain": [
       "1"
      ]
     },
     "metadata": {},
     "execution_count": 27
    }
   ],
   "source": [
    "5%2"
   ]
  },
  {
   "source": [
    "\n",
    "how many digits in number"
   ],
   "cell_type": "markdown",
   "metadata": {}
  },
  {
   "cell_type": "code",
   "execution_count": 31,
   "metadata": {},
   "outputs": [
    {
     "output_type": "stream",
     "name": "stdout",
     "text": [
      "10\n"
     ]
    }
   ],
   "source": [
    "num = 1234523445\n",
    "\n",
    "num1 = str(num)\n",
    "count =0\n",
    "for i in num1:\n",
    "    count = count+1\n",
    "print(count)\n"
   ]
  },
  {
   "cell_type": "code",
   "execution_count": 32,
   "metadata": {},
   "outputs": [
    {
     "output_type": "stream",
     "name": "stdout",
     "text": [
      "5\n"
     ]
    }
   ],
   "source": [
    "num = 12345\n",
    "num1 = len(str(num))\n",
    "print(num1)"
   ]
  },
  {
   "cell_type": "code",
   "execution_count": 37,
   "metadata": {},
   "outputs": [
    {
     "output_type": "stream",
     "name": "stdout",
     "text": [
      "it is nota  palindrome\n"
     ]
    }
   ],
   "source": [
    "num = 103\n",
    "num1 = str(num)\n",
    "if num1[0] == num1[-1]:\n",
    "    print(f'{num} is a palindrome')\n",
    "else:\n",
    "    print(\"it is not a  palindrome\")"
   ]
  },
  {
   "cell_type": "code",
   "execution_count": 39,
   "metadata": {},
   "outputs": [
    {
     "output_type": "stream",
     "name": "stdout",
     "text": [
      "it is a palindrome\n"
     ]
    }
   ],
   "source": [
    "num = 101\n",
    "if str(num) == str(num)[::-1]:\n",
    "    print(\"it is a palindrome\")"
   ]
  },
  {
   "cell_type": "code",
   "execution_count": 2,
   "metadata": {},
   "outputs": [
    {
     "output_type": "execute_result",
     "data": {
      "text/plain": [
       "1"
      ]
     },
     "metadata": {},
     "execution_count": 2
    }
   ],
   "source": [
    "13%2"
   ]
  },
  {
   "cell_type": "code",
   "execution_count": 3,
   "metadata": {},
   "outputs": [
    {
     "output_type": "error",
     "ename": "SyntaxError",
     "evalue": "invalid syntax (<ipython-input-3-94d0ee32cb30>, line 1)",
     "traceback": [
      "\u001b[1;36m  File \u001b[1;32m\"<ipython-input-3-94d0ee32cb30>\"\u001b[1;36m, line \u001b[1;32m1\u001b[0m\n\u001b[1;33m    lst = [1,2,3] lst[3]\u001b[0m\n\u001b[1;37m                  ^\u001b[0m\n\u001b[1;31mSyntaxError\u001b[0m\u001b[1;31m:\u001b[0m invalid syntax\n"
     ]
    }
   ],
   "source": [
    "lst = [1,2,3] lst[3]"
   ]
  },
  {
   "cell_type": "code",
   "execution_count": null,
   "metadata": {},
   "outputs": [],
   "source": [
    "print half start diamond"
   ]
  },
  {
   "cell_type": "code",
   "execution_count": 2,
   "metadata": {},
   "outputs": [
    {
     "output_type": "stream",
     "name": "stdout",
     "text": [
      "\n*\n**\n***\n****\n*****\n****\n***\n**\n*\n"
     ]
    }
   ],
   "source": [
    "n = int(input(\"enter a number\"))\n",
    "for i in range(0,n):\n",
    "    print('*'*i)\n",
    "for j in range(0,n):\n",
    "    print('*'*(n-j))"
   ]
  },
  {
   "cell_type": "code",
   "execution_count": 4,
   "metadata": {},
   "outputs": [
    {
     "output_type": "stream",
     "name": "stdout",
     "text": [
      "* * * * * * * * * * * * * * * \n"
     ]
    }
   ],
   "source": [
    "for i in range(0,5):\n",
    "\n",
    "\n",
    "    for j in range(0,i+1):\n",
    "\n",
    "        print(\"*\",end=\" \")\n",
    "print( )\n",
    "# for i in range(1,n):\n",
    "#     for j in range(i,n):\n",
    "#         print(\"*\",end=\" \")\n",
    "# print( )"
   ]
  },
  {
   "cell_type": "code",
   "execution_count": null,
   "metadata": {},
   "outputs": [],
   "source": []
  }
 ]
}